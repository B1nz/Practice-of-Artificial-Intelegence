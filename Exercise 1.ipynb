{
 "cells": [
  {
   "cell_type": "markdown",
   "metadata": {},
   "source": [
    "Oct 28, 2022 - A Web App to Recognize Handwritten Digits — in 19 Lines of Python"
   ]
  },
  {
   "cell_type": "markdown",
   "metadata": {},
   "source": [
    "https://medium.com/swlh/a-gui-to-recognize-handwritten-digits-in-19-lines-of-python-fda715e525d0"
   ]
  },
  {
   "cell_type": "code",
   "execution_count": 3,
   "metadata": {},
   "outputs": [],
   "source": [
    "# !pip install gradio\n",
    "# !pip install tensorflow-macos\n",
    "# !pip install tensorflow-metal"
   ]
  },
  {
   "cell_type": "code",
   "execution_count": 4,
   "metadata": {},
   "outputs": [
    {
     "ename": "OSError",
     "evalue": "Cannot load native module 'Crypto.Cipher._raw_ecb': Not found '_raw_ecb.cpython-310-darwin.so', Cannot load '_raw_ecb.abi3.so': cannot load library '/Users/gluthfi/opt/miniconda3/envs/ML-TF/lib/python3.10/site-packages/Crypto/Util/../Cipher/_raw_ecb.abi3.so': dlopen(/Users/gluthfi/opt/miniconda3/envs/ML-TF/lib/python3.10/site-packages/Crypto/Util/../Cipher/_raw_ecb.abi3.so, 0x0002): tried: '/Users/gluthfi/opt/miniconda3/envs/ML-TF/lib/python3.10/site-packages/Crypto/Util/../Cipher/_raw_ecb.abi3.so' (mach-o file, but is an incompatible architecture (have 'x86_64', need 'arm64')), '/System/Volumes/Preboot/Cryptexes/OS/Users/gluthfi/opt/miniconda3/envs/ML-TF/lib/python3.10/site-packages/Crypto/Util/../Cipher/_raw_ecb.abi3.so' (no such file), '/Users/gluthfi/opt/miniconda3/envs/ML-TF/lib/python3.10/site-packages/Crypto/Util/../Cipher/_raw_ecb.abi3.so' (mach-o file, but is an incompatible architecture (have 'x86_64', need 'arm64')), '/Users/gluthfi/opt/miniconda3/envs/ML-TF/lib/python3.10/site-packages/Crypto/Cipher/_raw_ecb.abi3.so' (mach-o file, but is an incompatible architecture (have 'x86_64', need 'arm64')), '/System/Volumes/Preboot/Cryptexes/OS/Users/gluthfi/opt/miniconda3/envs/ML-TF/lib/python3.10/site-packages/Crypto/Cipher/_raw_ecb.abi3.so' (no such file), '/Users/gluthfi/opt/miniconda3/envs/ML-TF/lib/python3.10/site-packages/Crypto/Cipher/_raw_ecb.abi3.so' (mach-o file, but is an incompatible architecture (have 'x86_64', need 'arm64')).  Additionally, ctypes.util.find_library() did not manage to locate a library called '/Users/gluthfi/opt/miniconda3/envs/ML-TF/lib/python3.10/site-packages/Crypto/Util/../Cipher/_raw_ecb.abi3.so', Not found '_raw_ecb.so'",
     "output_type": "error",
     "traceback": [
      "\u001b[0;31m---------------------------------------------------------------------------\u001b[0m",
      "\u001b[0;31mOSError\u001b[0m                                   Traceback (most recent call last)",
      "Cell \u001b[0;32mIn [4], line 2\u001b[0m\n\u001b[1;32m      1\u001b[0m \u001b[39mimport\u001b[39;00m \u001b[39mtensorflow\u001b[39;00m \u001b[39mas\u001b[39;00m \u001b[39mtf\u001b[39;00m\n\u001b[0;32m----> 2\u001b[0m \u001b[39mimport\u001b[39;00m \u001b[39mgradio\u001b[39;00m \u001b[39mas\u001b[39;00m \u001b[39mgr\u001b[39;00m\n",
      "File \u001b[0;32m~/opt/miniconda3/envs/ML-TF/lib/python3.10/site-packages/gradio/__init__.py:3\u001b[0m\n\u001b[1;32m      1\u001b[0m \u001b[39mimport\u001b[39;00m \u001b[39mpkgutil\u001b[39;00m\n\u001b[0;32m----> 3\u001b[0m \u001b[39mimport\u001b[39;00m \u001b[39mgradio\u001b[39;00m\u001b[39m.\u001b[39;00m\u001b[39mcomponents\u001b[39;00m \u001b[39mas\u001b[39;00m \u001b[39mcomponents\u001b[39;00m\n\u001b[1;32m      4\u001b[0m \u001b[39mimport\u001b[39;00m \u001b[39mgradio\u001b[39;00m\u001b[39m.\u001b[39;00m\u001b[39minputs\u001b[39;00m \u001b[39mas\u001b[39;00m \u001b[39minputs\u001b[39;00m\n\u001b[1;32m      5\u001b[0m \u001b[39mimport\u001b[39;00m \u001b[39mgradio\u001b[39;00m\u001b[39m.\u001b[39;00m\u001b[39moutputs\u001b[39;00m \u001b[39mas\u001b[39;00m \u001b[39moutputs\u001b[39;00m\n",
      "File \u001b[0;32m~/opt/miniconda3/envs/ML-TF/lib/python3.10/site-packages/gradio/components.py:39\u001b[0m\n\u001b[1;32m     36\u001b[0m \u001b[39mfrom\u001b[39;00m \u001b[39mffmpy\u001b[39;00m \u001b[39mimport\u001b[39;00m FFmpeg\n\u001b[1;32m     37\u001b[0m \u001b[39mfrom\u001b[39;00m \u001b[39mmarkdown_it\u001b[39;00m \u001b[39mimport\u001b[39;00m MarkdownIt\n\u001b[0;32m---> 39\u001b[0m \u001b[39mfrom\u001b[39;00m \u001b[39mgradio\u001b[39;00m \u001b[39mimport\u001b[39;00m media_data, processing_utils, utils\n\u001b[1;32m     40\u001b[0m \u001b[39mfrom\u001b[39;00m \u001b[39mgradio\u001b[39;00m\u001b[39m.\u001b[39;00m\u001b[39mblocks\u001b[39;00m \u001b[39mimport\u001b[39;00m Block\n\u001b[1;32m     41\u001b[0m \u001b[39mfrom\u001b[39;00m \u001b[39mgradio\u001b[39;00m\u001b[39m.\u001b[39;00m\u001b[39mdocumentation\u001b[39;00m \u001b[39mimport\u001b[39;00m document, set_documentation_group\n",
      "File \u001b[0;32m~/opt/miniconda3/envs/ML-TF/lib/python3.10/site-packages/gradio/processing_utils.py:20\u001b[0m\n\u001b[1;32m     17\u001b[0m \u001b[39mfrom\u001b[39;00m \u001b[39mffmpy\u001b[39;00m \u001b[39mimport\u001b[39;00m FFmpeg, FFprobe, FFRuntimeError\n\u001b[1;32m     18\u001b[0m \u001b[39mfrom\u001b[39;00m \u001b[39mPIL\u001b[39;00m \u001b[39mimport\u001b[39;00m Image, ImageOps, PngImagePlugin\n\u001b[0;32m---> 20\u001b[0m \u001b[39mfrom\u001b[39;00m \u001b[39mgradio\u001b[39;00m \u001b[39mimport\u001b[39;00m encryptor, utils\n\u001b[1;32m     22\u001b[0m \u001b[39mwith\u001b[39;00m warnings\u001b[39m.\u001b[39mcatch_warnings():\n\u001b[1;32m     23\u001b[0m     warnings\u001b[39m.\u001b[39msimplefilter(\u001b[39m\"\u001b[39m\u001b[39mignore\u001b[39m\u001b[39m\"\u001b[39m)  \u001b[39m# Ignore pydub warning if ffmpeg is not installed\u001b[39;00m\n",
      "File \u001b[0;32m~/opt/miniconda3/envs/ML-TF/lib/python3.10/site-packages/gradio/encryptor.py:2\u001b[0m\n\u001b[1;32m      1\u001b[0m \u001b[39mfrom\u001b[39;00m \u001b[39mCrypto\u001b[39;00m \u001b[39mimport\u001b[39;00m Random\n\u001b[0;32m----> 2\u001b[0m \u001b[39mfrom\u001b[39;00m \u001b[39mCrypto\u001b[39;00m\u001b[39m.\u001b[39;00m\u001b[39mCipher\u001b[39;00m \u001b[39mimport\u001b[39;00m AES\n\u001b[1;32m      3\u001b[0m \u001b[39mfrom\u001b[39;00m \u001b[39mCrypto\u001b[39;00m\u001b[39m.\u001b[39;00m\u001b[39mHash\u001b[39;00m \u001b[39mimport\u001b[39;00m SHA256\n\u001b[1;32m      6\u001b[0m \u001b[39mdef\u001b[39;00m \u001b[39mget_key\u001b[39m(password: \u001b[39mstr\u001b[39m) \u001b[39m-\u001b[39m\u001b[39m>\u001b[39m \u001b[39mbytes\u001b[39m:\n",
      "File \u001b[0;32m~/opt/miniconda3/envs/ML-TF/lib/python3.10/site-packages/Crypto/Cipher/__init__.py:27\u001b[0m\n\u001b[1;32m      1\u001b[0m \u001b[39m#\u001b[39;00m\n\u001b[1;32m      2\u001b[0m \u001b[39m# A block cipher is instantiated as a combination of:\u001b[39;00m\n\u001b[1;32m      3\u001b[0m \u001b[39m# 1. A base cipher (such as AES)\u001b[39;00m\n\u001b[0;32m   (...)\u001b[0m\n\u001b[1;32m     22\u001b[0m \u001b[39m#\u001b[39;00m\n\u001b[1;32m     23\u001b[0m \u001b[39m# where mode_state is a a pointer to base_cipher_state plus mode-specific data.\u001b[39;00m\n\u001b[1;32m     25\u001b[0m \u001b[39mimport\u001b[39;00m \u001b[39mos\u001b[39;00m\n\u001b[0;32m---> 27\u001b[0m \u001b[39mfrom\u001b[39;00m \u001b[39mCrypto\u001b[39;00m\u001b[39m.\u001b[39;00m\u001b[39mCipher\u001b[39;00m\u001b[39m.\u001b[39;00m\u001b[39m_mode_ecb\u001b[39;00m \u001b[39mimport\u001b[39;00m _create_ecb_cipher\n\u001b[1;32m     28\u001b[0m \u001b[39mfrom\u001b[39;00m \u001b[39mCrypto\u001b[39;00m\u001b[39m.\u001b[39;00m\u001b[39mCipher\u001b[39;00m\u001b[39m.\u001b[39;00m\u001b[39m_mode_cbc\u001b[39;00m \u001b[39mimport\u001b[39;00m _create_cbc_cipher\n\u001b[1;32m     29\u001b[0m \u001b[39mfrom\u001b[39;00m \u001b[39mCrypto\u001b[39;00m\u001b[39m.\u001b[39;00m\u001b[39mCipher\u001b[39;00m\u001b[39m.\u001b[39;00m\u001b[39m_mode_cfb\u001b[39;00m \u001b[39mimport\u001b[39;00m _create_cfb_cipher\n",
      "File \u001b[0;32m~/opt/miniconda3/envs/ML-TF/lib/python3.10/site-packages/Crypto/Cipher/_mode_ecb.py:35\u001b[0m\n\u001b[1;32m     27\u001b[0m __all__ \u001b[39m=\u001b[39m [ \u001b[39m'\u001b[39m\u001b[39mEcbMode\u001b[39m\u001b[39m'\u001b[39m ]\n\u001b[1;32m     29\u001b[0m \u001b[39mfrom\u001b[39;00m \u001b[39mCrypto\u001b[39;00m\u001b[39m.\u001b[39;00m\u001b[39mUtil\u001b[39;00m\u001b[39m.\u001b[39;00m\u001b[39m_raw_api\u001b[39;00m \u001b[39mimport\u001b[39;00m (load_pycryptodome_raw_lib,\n\u001b[1;32m     30\u001b[0m                                   VoidPointer, create_string_buffer,\n\u001b[1;32m     31\u001b[0m                                   get_raw_buffer, SmartPointer,\n\u001b[1;32m     32\u001b[0m                                   c_size_t, c_uint8_ptr,\n\u001b[1;32m     33\u001b[0m                                   is_writeable_buffer)\n\u001b[0;32m---> 35\u001b[0m raw_ecb_lib \u001b[39m=\u001b[39m load_pycryptodome_raw_lib(\u001b[39m\"\u001b[39;49m\u001b[39mCrypto.Cipher._raw_ecb\u001b[39;49m\u001b[39m\"\u001b[39;49m, \u001b[39m\"\"\"\u001b[39;49m\n\u001b[1;32m     36\u001b[0m \u001b[39m                    int ECB_start_operation(void *cipher,\u001b[39;49m\n\u001b[1;32m     37\u001b[0m \u001b[39m                                            void **pResult);\u001b[39;49m\n\u001b[1;32m     38\u001b[0m \u001b[39m                    int ECB_encrypt(void *ecbState,\u001b[39;49m\n\u001b[1;32m     39\u001b[0m \u001b[39m                                    const uint8_t *in,\u001b[39;49m\n\u001b[1;32m     40\u001b[0m \u001b[39m                                    uint8_t *out,\u001b[39;49m\n\u001b[1;32m     41\u001b[0m \u001b[39m                                    size_t data_len);\u001b[39;49m\n\u001b[1;32m     42\u001b[0m \u001b[39m                    int ECB_decrypt(void *ecbState,\u001b[39;49m\n\u001b[1;32m     43\u001b[0m \u001b[39m                                    const uint8_t *in,\u001b[39;49m\n\u001b[1;32m     44\u001b[0m \u001b[39m                                    uint8_t *out,\u001b[39;49m\n\u001b[1;32m     45\u001b[0m \u001b[39m                                    size_t data_len);\u001b[39;49m\n\u001b[1;32m     46\u001b[0m \u001b[39m                    int ECB_stop_operation(void *state);\u001b[39;49m\n\u001b[1;32m     47\u001b[0m \u001b[39m                    \u001b[39;49m\u001b[39m\"\"\"\u001b[39;49m\n\u001b[1;32m     48\u001b[0m                                         )\n\u001b[1;32m     51\u001b[0m \u001b[39mclass\u001b[39;00m \u001b[39mEcbMode\u001b[39;00m(\u001b[39mobject\u001b[39m):\n\u001b[1;32m     52\u001b[0m     \u001b[39m\"\"\"*Electronic Code Book (ECB)*.\u001b[39;00m\n\u001b[1;32m     53\u001b[0m \n\u001b[1;32m     54\u001b[0m \u001b[39m    This is the simplest encryption mode. Each of the plaintext blocks\u001b[39;00m\n\u001b[0;32m   (...)\u001b[0m\n\u001b[1;32m     65\u001b[0m \u001b[39m    :undocumented: __init__\u001b[39;00m\n\u001b[1;32m     66\u001b[0m \u001b[39m    \"\"\"\u001b[39;00m\n",
      "File \u001b[0;32m~/opt/miniconda3/envs/ML-TF/lib/python3.10/site-packages/Crypto/Util/_raw_api.py:309\u001b[0m, in \u001b[0;36mload_pycryptodome_raw_lib\u001b[0;34m(name, cdecl)\u001b[0m\n\u001b[1;32m    307\u001b[0m     \u001b[39mexcept\u001b[39;00m \u001b[39mOSError\u001b[39;00m \u001b[39mas\u001b[39;00m exp:\n\u001b[1;32m    308\u001b[0m         attempts\u001b[39m.\u001b[39mappend(\u001b[39m\"\u001b[39m\u001b[39mCannot load \u001b[39m\u001b[39m'\u001b[39m\u001b[39m%s\u001b[39;00m\u001b[39m'\u001b[39m\u001b[39m: \u001b[39m\u001b[39m%s\u001b[39;00m\u001b[39m\"\u001b[39m \u001b[39m%\u001b[39m (filename, \u001b[39mstr\u001b[39m(exp)))\n\u001b[0;32m--> 309\u001b[0m \u001b[39mraise\u001b[39;00m \u001b[39mOSError\u001b[39;00m(\u001b[39m\"\u001b[39m\u001b[39mCannot load native module \u001b[39m\u001b[39m'\u001b[39m\u001b[39m%s\u001b[39;00m\u001b[39m'\u001b[39m\u001b[39m: \u001b[39m\u001b[39m%s\u001b[39;00m\u001b[39m\"\u001b[39m \u001b[39m%\u001b[39m (name, \u001b[39m\"\u001b[39m\u001b[39m, \u001b[39m\u001b[39m\"\u001b[39m\u001b[39m.\u001b[39mjoin(attempts)))\n",
      "\u001b[0;31mOSError\u001b[0m: Cannot load native module 'Crypto.Cipher._raw_ecb': Not found '_raw_ecb.cpython-310-darwin.so', Cannot load '_raw_ecb.abi3.so': cannot load library '/Users/gluthfi/opt/miniconda3/envs/ML-TF/lib/python3.10/site-packages/Crypto/Util/../Cipher/_raw_ecb.abi3.so': dlopen(/Users/gluthfi/opt/miniconda3/envs/ML-TF/lib/python3.10/site-packages/Crypto/Util/../Cipher/_raw_ecb.abi3.so, 0x0002): tried: '/Users/gluthfi/opt/miniconda3/envs/ML-TF/lib/python3.10/site-packages/Crypto/Util/../Cipher/_raw_ecb.abi3.so' (mach-o file, but is an incompatible architecture (have 'x86_64', need 'arm64')), '/System/Volumes/Preboot/Cryptexes/OS/Users/gluthfi/opt/miniconda3/envs/ML-TF/lib/python3.10/site-packages/Crypto/Util/../Cipher/_raw_ecb.abi3.so' (no such file), '/Users/gluthfi/opt/miniconda3/envs/ML-TF/lib/python3.10/site-packages/Crypto/Util/../Cipher/_raw_ecb.abi3.so' (mach-o file, but is an incompatible architecture (have 'x86_64', need 'arm64')), '/Users/gluthfi/opt/miniconda3/envs/ML-TF/lib/python3.10/site-packages/Crypto/Cipher/_raw_ecb.abi3.so' (mach-o file, but is an incompatible architecture (have 'x86_64', need 'arm64')), '/System/Volumes/Preboot/Cryptexes/OS/Users/gluthfi/opt/miniconda3/envs/ML-TF/lib/python3.10/site-packages/Crypto/Cipher/_raw_ecb.abi3.so' (no such file), '/Users/gluthfi/opt/miniconda3/envs/ML-TF/lib/python3.10/site-packages/Crypto/Cipher/_raw_ecb.abi3.so' (mach-o file, but is an incompatible architecture (have 'x86_64', need 'arm64')).  Additionally, ctypes.util.find_library() did not manage to locate a library called '/Users/gluthfi/opt/miniconda3/envs/ML-TF/lib/python3.10/site-packages/Crypto/Util/../Cipher/_raw_ecb.abi3.so', Not found '_raw_ecb.so'"
     ]
    }
   ],
   "source": [
    "import tensorflow as tf\n",
    "import gradio as gr"
   ]
  },
  {
   "cell_type": "code",
   "execution_count": null,
   "metadata": {},
   "outputs": [
    {
     "ename": "NameError",
     "evalue": "name 'tf' is not defined",
     "output_type": "error",
     "traceback": [
      "\u001b[0;31m---------------------------------------------------------------------------\u001b[0m",
      "\u001b[0;31mNameError\u001b[0m                                 Traceback (most recent call last)",
      "Cell \u001b[0;32mIn [3], line 1\u001b[0m\n\u001b[0;32m----> 1\u001b[0m (x_train, y_train), (x_test, y_test) \u001b[39m=\u001b[39m tf\u001b[39m.\u001b[39mkeras\u001b[39m.\u001b[39mdatasets\u001b[39m.\u001b[39mmnist\u001b[39m.\u001b[39mload_data()\n\u001b[1;32m      2\u001b[0m x_train \u001b[39m=\u001b[39m x_train \u001b[39m/\u001b[39m \u001b[39m255.0\u001b[39m, \n\u001b[1;32m      3\u001b[0m x_test \u001b[39m=\u001b[39m x_test \u001b[39m/\u001b[39m \u001b[39m255.0\u001b[39m\n",
      "\u001b[0;31mNameError\u001b[0m: name 'tf' is not defined"
     ]
    }
   ],
   "source": [
    "(x_train, y_train), (x_test, y_test) = tf.keras.datasets.mnist.load_data()\n",
    "x_train = x_train / 255.0, \n",
    "x_test = x_test / 255.0"
   ]
  },
  {
   "cell_type": "code",
   "execution_count": null,
   "metadata": {},
   "outputs": [
    {
     "name": "stdout",
     "output_type": "stream",
     "text": [
      "Metal device set to: Apple M2\n",
      "\n",
      "systemMemory: 8.00 GB\n",
      "maxCacheSize: 2.67 GB\n",
      "\n"
     ]
    },
    {
     "name": "stderr",
     "output_type": "stream",
     "text": [
      "2022-10-28 10:16:48.078030: I tensorflow/core/common_runtime/pluggable_device/pluggable_device_factory.cc:306] Could not identify NUMA node of platform GPU ID 0, defaulting to 0. Your kernel may not have been built with NUMA support.\n",
      "2022-10-28 10:16:48.079479: I tensorflow/core/common_runtime/pluggable_device/pluggable_device_factory.cc:272] Created TensorFlow device (/job:localhost/replica:0/task:0/device:GPU:0 with 0 MB memory) -> physical PluggableDevice (device: 0, name: METAL, pci bus id: <undefined>)\n"
     ]
    },
    {
     "name": "stdout",
     "output_type": "stream",
     "text": [
      "Epoch 1/6\n"
     ]
    },
    {
     "name": "stderr",
     "output_type": "stream",
     "text": [
      "2022-10-28 10:16:48.721216: W tensorflow/core/platform/profile_utils/cpu_utils.cc:128] Failed to get CPU frequency: 0 Hz\n",
      "2022-10-28 10:16:49.049688: I tensorflow/core/grappler/optimizers/custom_graph_optimizer_registry.cc:114] Plugin optimizer for device_type GPU is enabled.\n"
     ]
    },
    {
     "name": "stdout",
     "output_type": "stream",
     "text": [
      "1865/1875 [============================>.] - ETA: 0s - loss: 0.2588 - accuracy: 0.9259"
     ]
    },
    {
     "name": "stderr",
     "output_type": "stream",
     "text": [
      "2022-10-28 10:16:58.254886: I tensorflow/core/grappler/optimizers/custom_graph_optimizer_registry.cc:114] Plugin optimizer for device_type GPU is enabled.\n"
     ]
    },
    {
     "name": "stdout",
     "output_type": "stream",
     "text": [
      "1875/1875 [==============================] - 11s 5ms/step - loss: 0.2581 - accuracy: 0.9261 - val_loss: 0.1389 - val_accuracy: 0.9587\n",
      "Epoch 2/6\n",
      "1875/1875 [==============================] - 8s 5ms/step - loss: 0.1143 - accuracy: 0.9660 - val_loss: 0.1032 - val_accuracy: 0.9673\n",
      "Epoch 3/6\n",
      "1875/1875 [==============================] - 9s 5ms/step - loss: 0.0776 - accuracy: 0.9763 - val_loss: 0.0936 - val_accuracy: 0.9693\n",
      "Epoch 4/6\n",
      "1875/1875 [==============================] - 9s 5ms/step - loss: 0.0583 - accuracy: 0.9821 - val_loss: 0.0791 - val_accuracy: 0.9749\n",
      "Epoch 5/6\n",
      "1875/1875 [==============================] - 8s 4ms/step - loss: 0.0450 - accuracy: 0.9859 - val_loss: 0.0786 - val_accuracy: 0.9764\n",
      "Epoch 6/6\n",
      "1875/1875 [==============================] - 8s 4ms/step - loss: 0.0346 - accuracy: 0.9891 - val_loss: 0.0811 - val_accuracy: 0.9764\n"
     ]
    },
    {
     "data": {
      "text/plain": [
       "<keras.callbacks.History at 0x17ff7a350>"
      ]
     },
     "execution_count": 5,
     "metadata": {},
     "output_type": "execute_result"
    }
   ],
   "source": [
    "model = tf.keras.models.Sequential([\n",
    "    tf.keras.layers.Flatten(input_shape=(28, 28)),\n",
    "    tf.keras.layers.Dense(128,activation='relu'),\n",
    "    tf.keras.layers.Dense(10, activation='softmax')\n",
    "])\n",
    "model.compile(optimizer='adam', loss='sparse_categorical_crossentropy', metrics=['accuracy'])\n",
    "model.fit(x_train, y_train, validation_data=(x_test, y_test), epochs=6)"
   ]
  }
 ],
 "metadata": {
  "kernelspec": {
   "display_name": "Python 3.10.6 ('ML-TF')",
   "language": "python",
   "name": "python3"
  },
  "language_info": {
   "codemirror_mode": {
    "name": "ipython",
    "version": 3
   },
   "file_extension": ".py",
   "mimetype": "text/x-python",
   "name": "python",
   "nbconvert_exporter": "python",
   "pygments_lexer": "ipython3",
   "version": "3.10.6"
  },
  "orig_nbformat": 4,
  "vscode": {
   "interpreter": {
    "hash": "ddf060e8d47545f220c5eae7c9a1bf428419a00e98903e23996e5de4f4553c52"
   }
  }
 },
 "nbformat": 4,
 "nbformat_minor": 2
}
